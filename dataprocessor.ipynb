{
 "cells": [
  {
   "cell_type": "code",
   "execution_count": 1,
   "metadata": {},
   "outputs": [],
   "source": [
    "import json\n",
    "from itertools import groupby"
   ]
  },
  {
   "cell_type": "code",
   "execution_count": 2,
   "metadata": {},
   "outputs": [],
   "source": [
    "with open(\"./cards.js\", \"r\") as datafile:\n",
    "    data=json.load(datafile)[\"fow\"][\"clusters\"][::-1]"
   ]
  },
  {
   "cell_type": "code",
   "execution_count": 11,
   "metadata": {},
   "outputs": [
    {
     "data": {
      "text/plain": [
       "{'id': 'EDL-001',\n",
       " 'name': 'Dispelling Stone',\n",
       " 'type': 'Chant',\n",
       " 'race': ['Treasure'],\n",
       " 'cost': '{W}',\n",
       " 'ATK': '',\n",
       " 'DEF': '',\n",
       " 'abilities': ['[Quickcast]',\n",
       "  \"Destroy target addition. Draw a card. Shuffle this card into its owner's deck as it resolves.\"],\n",
       " 'divinity': '',\n",
       " 'flavor': '\"Oh, it ... It\\'s wonderful! ... I think.\" - Selesta, Treasure Hunter',\n",
       " 'rarity': 'N'}"
      ]
     },
     "execution_count": 11,
     "metadata": {},
     "output_type": "execute_result"
    }
   ],
   "source": [
    "#Testing cell\n",
    "data[0][\"sets\"][0][\"cards\"][0]"
   ]
  },
  {
   "cell_type": "code",
   "execution_count": 12,
   "metadata": {},
   "outputs": [],
   "source": [
    "#Temporary, dump code->name dictionary until this can be done on the go\n",
    "names={}\n",
    "for cluster in data:\n",
    "    for setd in cluster[\"sets\"]:\n",
    "        for card in setd[\"cards\"]:\n",
    "            names[card[\"id\"]]=card[\"name\"]\n",
    "\n",
    "with open('names.js', 'w') as json_file:\n",
    "    json_file.write(\"\\nnames=\")\n",
    "    json.dump(names, json_file, indent=2, sort_keys=True)"
   ]
  },
  {
   "cell_type": "code",
   "execution_count": 5,
   "metadata": {},
   "outputs": [],
   "source": [
    "#Sort all cards within a set\n",
    "def sortset(setdata):\n",
    "    rarities=[[i[\"id\"], i[\"rarity\"]] for i in setdata[\"cards\"]]\n",
    "    rarities.sort(key=lambda x:x[1])\n",
    "    grouped=groupby(rarities, key=lambda x:x[1])\n",
    "    return [{'rarity':k, 'cards':[x[0] for x in v]} for k, v in grouped]"
   ]
  },
  {
   "cell_type": "code",
   "execution_count": 6,
   "metadata": {},
   "outputs": [],
   "source": [
    "#Group cards by rarity\n",
    "for n,i in enumerate(data):\n",
    "    for m,j in enumerate(data[n][\"sets\"]):\n",
    "        data[n][\"sets\"][m][\"cards\"]=sortset(data[n][\"sets\"][m])"
   ]
  },
  {
   "cell_type": "code",
   "execution_count": 7,
   "metadata": {},
   "outputs": [],
   "source": [
    "#Merge rarity and card fields\n",
    "for n,i in enumerate(data):\n",
    "    for m,j in enumerate(i[\"sets\"]):\n",
    "        for mm,k in enumerate(j[\"cards\"]):\n",
    "            data[n][\"sets\"][m][\"cards\"][mm][k[\"rarity\"]]=k[\"cards\"]\n",
    "            del data[n][\"sets\"][m][\"cards\"][mm][\"rarity\"]\n",
    "            del data[n][\"sets\"][m][\"cards\"][mm][\"cards\"]\n",
    "        data[n][\"sets\"][m][\"cards\"]={list(group)[0]:group[list(group)[0]] for group in j[\"cards\"]}"
   ]
  },
  {
   "cell_type": "code",
   "execution_count": 13,
   "metadata": {},
   "outputs": [],
   "source": [
    "#Remove starter decks, vingolf sets and promos\n",
    "#May need to run this one twice for some reason\n",
    "remcodes=[\"SDAO1\", \"SDAO2\", \"AOPR\", \"GITS2045SD\", \"SDV1\", \"SDV2\", \"SDV3\", \"SDV4\", \"SDV5\", \"SDR1\", \"SDR2\", \"SDR3\", \"SDR4\", \"SDR5\", \"SDR6\", \"SDL1\", \"SDL2\", \"SDL3\", \"SDL4\", \"SDL5\", \"VIN001\", \"VIN002\", \"VIN003\", \"VS01\", \"S\"]\n",
    "for n,i in enumerate(data):\n",
    "    for m,j in enumerate(i[\"sets\"]):\n",
    "        if j[\"code\"] in remcodes: del data[n][\"sets\"][m]"
   ]
  },
  {
   "cell_type": "code",
   "execution_count": 14,
   "metadata": {},
   "outputs": [
    {
     "name": "stdout",
     "output_type": "stream",
     "text": [
      "EDL The Epic of the Dragon Lord\n",
      "AO1 Alice Origin\n",
      "AO2 Alice Origin II\n",
      "GITS2045 GHOST IN THE SHELL SAC_2045\n",
      "AO3 Alice Origin III\n",
      "PofA Prologue of Attoractia\n",
      "NDR New Dawn Rises\n",
      "SNV The Strangers of New Valhalla\n",
      "AOA Awakening of the Ancients\n",
      "DBV The Decisive Battle of Valhalla\n",
      "ACN Ancient Nights\n",
      "ADK Advent of the Demon King\n",
      "TSW The Time-Spinning Witch\n",
      "WOM Winds of the Ominous Moon\n",
      "CFC Curse of the Frozen Casket\n",
      "LEL Legacy Lost\n",
      "RDE Return of the Dragon Emperor\n",
      "ENW Echoes of the New World\n",
      "SKL The Seven Kings of the Land\n",
      "TTW The Twilight Wanderer\n",
      "TMS The Moonlit Saviour\n",
      "BFA Battle for Attoractia\n",
      "CMF The Crimson Moon Fairy Tale\n",
      "TAT The Castle of Heaven and the Two Towers\n",
      "MPR The Moon Priestess Returns\n",
      "MOA The Millennia of Ages\n",
      "1 The Dawn of Valhalla\n",
      "2 The War of Valhalla\n",
      "3 The Shaft of Light of Valhalla\n"
     ]
    }
   ],
   "source": [
    "#(Optional, make sure all the right sets are left)\n",
    "for n,i in enumerate(data):\n",
    "    for m,j in enumerate(i[\"sets\"]):\n",
    "        print(j[\"code\"], j[\"name\"])"
   ]
  },
  {
   "cell_type": "code",
   "execution_count": 24,
   "metadata": {},
   "outputs": [],
   "source": [
    "with open('out.js', 'w') as json_file:\n",
    "    json_file.write(\"data=\")\n",
    "    json.dump(data, json_file, indent=2, sort_keys=True)"
   ]
  },
  {
   "cell_type": "code",
   "execution_count": 21,
   "metadata": {},
   "outputs": [],
   "source": [
    "#Add list of ruler cards for easier exclusions\n",
    "rulers=[]\n",
    "for cluster in data:\n",
    "    for sets in cluster[\"sets\"]:\n",
    "        for rarity in sets[\"cards\"].keys():\n",
    "            for card in sets[\"cards\"][rarity]:\n",
    "                if card[-1]==\"J\": rulers.append(card[:-1])"
   ]
  },
  {
   "cell_type": "code",
   "execution_count": 25,
   "metadata": {},
   "outputs": [],
   "source": [
    "with open('out.js', 'a') as json_file:\n",
    "    json_file.write(\"\\nrulers=\")\n",
    "    json.dump(rulers, json_file, indent=2, sort_keys=True)"
   ]
  },
  {
   "cell_type": "code",
   "execution_count": null,
   "metadata": {},
   "outputs": [],
   "source": []
  }
 ],
 "metadata": {
  "kernelspec": {
   "display_name": "Python 3",
   "language": "python",
   "name": "python3"
  },
  "language_info": {
   "codemirror_mode": {
    "name": "ipython",
    "version": 3
   },
   "file_extension": ".py",
   "mimetype": "text/x-python",
   "name": "python",
   "nbconvert_exporter": "python",
   "pygments_lexer": "ipython3",
   "version": "3.7.4"
  }
 },
 "nbformat": 4,
 "nbformat_minor": 2
}
